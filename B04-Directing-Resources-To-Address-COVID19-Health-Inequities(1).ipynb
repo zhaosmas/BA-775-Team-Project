{
 "cells": [
  {
   "cell_type": "markdown",
   "id": "50903a76-5a52-45df-aeac-4dc1f22c7491",
   "metadata": {},
   "source": [
    "# **Directing Resources to Address COVID-19 Health Inequities**"
   ]
  },
  {
   "cell_type": "markdown",
   "id": "af00f2d9-4cce-4f0e-b23a-90f47b0b4e33",
   "metadata": {},
   "source": [
    "Team B04 Fanfei Zhao, Sixuan Wang, Shu Wang, Yuesen Zhang, Jiadai Yu\n",
    "\n",
    "### Project Proposal\n",
    "Our goal is to establish a strategy for equal distribution of health care resources for the treatment of COVID-19. We will analyze the impact of inequities on community health status, find the hardest hit areas, and map out how to allocate medical resources (vaccines, tests, treatments, etc.) equally and to efficiently protect the safety of all communities.\n",
    "\n",
    "### Data Source\n",
    "California Health and Human Services (https://data.chhs.ca.gov/dataset/covid-19-equity-metrics)\n",
    "\n",
    "### Summary\n",
    "COVID-19 reveals health inequities, which in turn, through population mixing, are impacting the health of the entire society. Therefore, we analyzed the influence of social determinants, race, age and gender, and geographic location on the COVID to identify the populations most affected:\n",
    "\n",
    "Essential workers with incomes of $40k-60k had the highest number of confirmed cases; between race and ethnicity, Native Hawaiian and other Pacific Islander had the highest case rate per 100k of 238.89, while Asian american had the lowest rate of only 57.49; In September 2022, there were no deaths among those aged 0-49 years, while 65+ had 290 death records; Among the different counties, Santa Cruz had a positive test rate of only 3.55%, while Imperial had a high rate of 22.21%. \n",
    "\n",
    "https://public.tableau.com/views/COVID-equity-dashboard-1017/Dashboard1?:language=zh-CN&:display_count=n&:origin=viz_share_link\n",
    "<div class='tableauPlaceholder' id='viz1666122793564' style='position: relative'><noscript><a href='#'><img alt='Dashboard 1 ' src='https:&#47;&#47;public.tableau.com&#47;static&#47;images&#47;CO&#47;COVID-equity-dashboard-1017&#47;Dashboard1&#47;1_rss.png' style='border: none' /></a></noscript><object class='tableauViz'  style='display:none;'><param name='host_url' value='https%3A%2F%2Fpublic.tableau.com%2F' /> <param name='embed_code_version' value='3' /> <param name='site_root' value='' /><param name='name' value='COVID-equity-dashboard-1017&#47;Dashboard1' /><param name='tabs' value='no' /><param name='toolbar' value='yes' /><param name='static_image' value='https:&#47;&#47;public.tableau.com&#47;static&#47;images&#47;CO&#47;COVID-equity-dashboard-1017&#47;Dashboard1&#47;1.png' /> <param name='animate_transition' value='yes' /><param name='display_static_image' value='yes' /><param name='display_spinner' value='yes' /><param name='display_overlay' value='yes' /><param name='display_count' value='yes' /><param name='language' value='zh-CN' /></object></div>                <script type='text/javascript'>                    var divElement = document.getElementById('viz1666122793564');                    var vizElement = divElement.getElementsByTagName('object')[0];                    if ( divElement.offsetWidth > 800 ) { vizElement.style.width='1800px';vizElement.style.height='1327px';} else if ( divElement.offsetWidth > 500 ) { vizElement.style.width='1800px';vizElement.style.height='1327px';} else { vizElement.style.width='100%';vizElement.style.height='2027px';}                     var scriptElement = document.createElement('script');                    scriptElement.src = 'https://public.tableau.com/javascripts/api/viz_v1.js';                    vizElement.parentNode.insertBefore(scriptElement, vizElement);                </script>\n",
    "\n",
    "### Contents\n",
    "1. Introduction\n",
    "    \n",
    "    1.1 Motivation\n",
    "    1.2 Data Dictionary\n",
    "2. Explanatory Analysis\n",
    "    \n",
    "    2.1 Compare 7-Day Cases in Different Social Classes\n",
    "    2.2 Difference of Cases and Death Rate between Races \n",
    "    2.3 Death Rate Between Different Age Groups and Genders\n",
    "    2.4 Geographic Difference of Test Postivity Rate\n",
    "    \n",
    "3. Conclusion\n",
    "\n",
    "4. References\n",
    "\n",
    "These are the data fields' explanations we will cover in the following paragraphs \n",
    "## **1. Introduction**"
   ]
  },
  {
   "cell_type": "markdown",
   "id": "c16348d5-99ec-465e-8ef2-92228c62e382",
   "metadata": {},
   "source": [
    "### **1.1 Motivation**"
   ]
  },
  {
   "cell_type": "markdown",
   "id": "fcd8302f-c91a-4c64-b09d-1c1ea120c793",
   "metadata": {},
   "source": [
    "Covid-19 has been effected the world nowadays and a significant amount of the population had covid positive, and human health problems are threatening. The social inequality problem has become more severe during the pandemic. In other words, social resources can not be distributed to people or countries equally and COVID makes some intangible phenomenons figurative. Thus, we want to analyze more information about the topic and we choose California data as the example here. \n",
    "\n",
    "The reason why we choose California as the target data is because the data in California state is more detailed than other states online and the diversity here is high enough to support us do the various analysis on the topic\n"
   ]
  },
  {
   "cell_type": "markdown",
   "id": "d375776b-f53b-4368-b8b0-0c2a876bae9c",
   "metadata": {},
   "source": [
    "### **1.2 Data Dictionary**"
   ]
  },
  {
   "cell_type": "markdown",
   "id": "07d7f8e7-4331-4042-8d22-f62a7b14b4b6",
   "metadata": {},
   "source": [
    "These are the explanations of data fields that we will cover in the following paragraphs and provide readers with a brief understanding of the concepts we use."
   ]
  },
  {
   "cell_type": "markdown",
   "id": "aeb0e2a2-87c5-432e-9c2e-75c978f93ea1",
   "metadata": {},
   "source": [
    "**Date**: The exact date of the records taken.\n",
    "\n",
    "**Metric**: The variable of interest we record when doing analysis. Different metrics include positive_rate, 7-day cases rate.\n",
    "\n",
    "**Demographic**: The demographic characteristics that we use when doing analysis. Race-ethnity,age,gender,among others.\n",
    "\n",
    "**Demographic category**: A detailed division(a subcategory) of records based on the chosen demographic characteristics.\n",
    "\n",
    "**Social determinants**: conditions in the environments where people are born, live, learn, work, play, worship, and age that affect a wide range of health, functioning, and quality-of-life outcomes and risks.Including income,income_cumulative,crowding,insurance among others.\n",
    "\n",
    "**Social Tier**: A detailed division(A subcategory) of records based on the chosen social determinants.\n",
    "\n",
    "**Location**: The name in county level in California.\n",
    "\n",
    "**Value**: The exact value based on given metrics.For convenience,the rate in these datasets are based on per 100,K. "
   ]
  },
  {
   "cell_type": "markdown",
   "id": "37fdfd0b-058b-4036-aa97-d77509cbfceb",
   "metadata": {},
   "source": [
    "## **2. Explanatory Analysis**"
   ]
  },
  {
   "cell_type": "markdown",
   "id": "18c5eaaa-9945-4e4c-839c-c27b9b710233",
   "metadata": {},
   "source": [
    "In the analysis part, we will first talk about the social class influence on COVID and then explain the race and ethnicity differences. We will discuss the death rate and test positive rate in the following parts."
   ]
  },
  {
   "cell_type": "markdown",
   "id": "b9a73fe7-9cba-4940-a960-00e29758f4a5",
   "metadata": {
    "tags": []
   },
   "source": [
    "### **2.1 Compare 7-Day Cases in Different Social Classes**"
   ]
  },
  {
   "cell_type": "markdown",
   "id": "b4b6c991-9017-417a-aeaf-e7b9ced70b4b",
   "metadata": {},
   "source": [
    "COVID-19 brings a huge impact all over the world and different social class people feel more deeply about the influence. What is the relationship between social tier and COVID cases and what do they tell us? In the beginning, let's use the 7-day case data to help us know the basic information in the state of California."
   ]
  },
  {
   "cell_type": "code",
   "execution_count": 20,
   "id": "bac99129-b26e-4299-9535-325fd9e1b90b",
   "metadata": {},
   "outputs": [
    {
     "name": "stderr",
     "output_type": "stream",
     "text": [
      "Query complete after 0.00s: 100%|██████████| 1/1 [00:00<00:00, 373.96query/s] \n",
      "Downloading: 100%|██████████| 288/288 [00:01<00:00, 208.21rows/s]\n"
     ]
    },
    {
     "data": {
      "text/html": [
       "<div>\n",
       "<style scoped>\n",
       "    .dataframe tbody tr th:only-of-type {\n",
       "        vertical-align: middle;\n",
       "    }\n",
       "\n",
       "    .dataframe tbody tr th {\n",
       "        vertical-align: top;\n",
       "    }\n",
       "\n",
       "    .dataframe thead th {\n",
       "        text-align: right;\n",
       "    }\n",
       "</style>\n",
       "<table border=\"1\" class=\"dataframe\">\n",
       "  <thead>\n",
       "    <tr style=\"text-align: right;\">\n",
       "      <th></th>\n",
       "      <th>Month_of_2021</th>\n",
       "      <th>social_det</th>\n",
       "      <th>social_tier</th>\n",
       "      <th>avg_case_rate_per_100k</th>\n",
       "    </tr>\n",
       "  </thead>\n",
       "  <tbody>\n",
       "    <tr>\n",
       "      <th>0</th>\n",
       "      <td>1</td>\n",
       "      <td>crowding</td>\n",
       "      <td>less than 2%</td>\n",
       "      <td>44.695407</td>\n",
       "    </tr>\n",
       "    <tr>\n",
       "      <th>1</th>\n",
       "      <td>1</td>\n",
       "      <td>crowding</td>\n",
       "      <td>2% - 5%</td>\n",
       "      <td>56.781871</td>\n",
       "    </tr>\n",
       "    <tr>\n",
       "      <th>2</th>\n",
       "      <td>1</td>\n",
       "      <td>crowding</td>\n",
       "      <td>5% - 10%</td>\n",
       "      <td>75.676776</td>\n",
       "    </tr>\n",
       "    <tr>\n",
       "      <th>3</th>\n",
       "      <td>1</td>\n",
       "      <td>crowding</td>\n",
       "      <td>10% - 15%</td>\n",
       "      <td>97.046162</td>\n",
       "    </tr>\n",
       "    <tr>\n",
       "      <th>4</th>\n",
       "      <td>1</td>\n",
       "      <td>crowding</td>\n",
       "      <td>15% - 20%</td>\n",
       "      <td>115.130432</td>\n",
       "    </tr>\n",
       "    <tr>\n",
       "      <th>...</th>\n",
       "      <td>...</td>\n",
       "      <td>...</td>\n",
       "      <td>...</td>\n",
       "      <td>...</td>\n",
       "    </tr>\n",
       "    <tr>\n",
       "      <th>283</th>\n",
       "      <td>12</td>\n",
       "      <td>insurance</td>\n",
       "      <td>5% - 10%</td>\n",
       "      <td>10.157431</td>\n",
       "    </tr>\n",
       "    <tr>\n",
       "      <th>284</th>\n",
       "      <td>12</td>\n",
       "      <td>insurance</td>\n",
       "      <td>10% - 15%</td>\n",
       "      <td>11.496048</td>\n",
       "    </tr>\n",
       "    <tr>\n",
       "      <th>285</th>\n",
       "      <td>12</td>\n",
       "      <td>insurance</td>\n",
       "      <td>15% - 25%</td>\n",
       "      <td>12.661453</td>\n",
       "    </tr>\n",
       "    <tr>\n",
       "      <th>286</th>\n",
       "      <td>12</td>\n",
       "      <td>insurance</td>\n",
       "      <td>25% - 35%</td>\n",
       "      <td>13.047660</td>\n",
       "    </tr>\n",
       "    <tr>\n",
       "      <th>287</th>\n",
       "      <td>12</td>\n",
       "      <td>insurance</td>\n",
       "      <td>over 35%</td>\n",
       "      <td>11.851732</td>\n",
       "    </tr>\n",
       "  </tbody>\n",
       "</table>\n",
       "<p>288 rows × 4 columns</p>\n",
       "</div>"
      ],
      "text/plain": [
       "     Month_of_2021 social_det   social_tier  avg_case_rate_per_100k\n",
       "0                1   crowding  less than 2%               44.695407\n",
       "1                1   crowding       2% - 5%               56.781871\n",
       "2                1   crowding      5% - 10%               75.676776\n",
       "3                1   crowding     10% - 15%               97.046162\n",
       "4                1   crowding     15% - 20%              115.130432\n",
       "..             ...        ...           ...                     ...\n",
       "283             12  insurance      5% - 10%               10.157431\n",
       "284             12  insurance     10% - 15%               11.496048\n",
       "285             12  insurance     15% - 25%               12.661453\n",
       "286             12  insurance     25% - 35%               13.047660\n",
       "287             12  insurance      over 35%               11.851732\n",
       "\n",
       "[288 rows x 4 columns]"
      ]
     },
     "execution_count": 20,
     "metadata": {},
     "output_type": "execute_result"
    }
   ],
   "source": [
    "%%bigquery\n",
    "SELECT EXTRACT(MONTH FROM date) AS Month_of_2021, social_det,social_tier,AVG(case_rate_per_100k) AS avg_case_rate_per_100k\n",
    "FROM `ba775-team-project-04.ba775_team04_covid_19_equity_metrics_v1kpo4.covid-19-case-rate-by-social-det`\n",
    "WHERE EXTRACT( YEAR FROM date) = 2021\n",
    "GROUP BY Month_of_2021,social_det,social_tier,sort\n",
    "ORDER BY Month_of_2021,social_det,sort;"
   ]
  },
  {
   "cell_type": "code",
   "execution_count": 21,
   "id": "c33fe5a6-5756-482f-9ab7-5698b9719226",
   "metadata": {},
   "outputs": [
    {
     "name": "stderr",
     "output_type": "stream",
     "text": [
      "Query complete after 0.00s: 100%|██████████| 1/1 [00:00<00:00, 747.38query/s] \n",
      "Downloading: 100%|██████████| 216/216 [00:01<00:00, 161.31rows/s]\n"
     ]
    },
    {
     "data": {
      "text/html": [
       "<div>\n",
       "<style scoped>\n",
       "    .dataframe tbody tr th:only-of-type {\n",
       "        vertical-align: middle;\n",
       "    }\n",
       "\n",
       "    .dataframe tbody tr th {\n",
       "        vertical-align: top;\n",
       "    }\n",
       "\n",
       "    .dataframe thead th {\n",
       "        text-align: right;\n",
       "    }\n",
       "</style>\n",
       "<table border=\"1\" class=\"dataframe\">\n",
       "  <thead>\n",
       "    <tr style=\"text-align: right;\">\n",
       "      <th></th>\n",
       "      <th>Month_of_2022</th>\n",
       "      <th>social_det</th>\n",
       "      <th>social_tier</th>\n",
       "      <th>avg_case_rate_per_100k</th>\n",
       "    </tr>\n",
       "  </thead>\n",
       "  <tbody>\n",
       "    <tr>\n",
       "      <th>0</th>\n",
       "      <td>1</td>\n",
       "      <td>crowding</td>\n",
       "      <td>less than 2%</td>\n",
       "      <td>130.443291</td>\n",
       "    </tr>\n",
       "    <tr>\n",
       "      <th>1</th>\n",
       "      <td>1</td>\n",
       "      <td>crowding</td>\n",
       "      <td>2% - 5%</td>\n",
       "      <td>145.866734</td>\n",
       "    </tr>\n",
       "    <tr>\n",
       "      <th>2</th>\n",
       "      <td>1</td>\n",
       "      <td>crowding</td>\n",
       "      <td>5% - 10%</td>\n",
       "      <td>166.359762</td>\n",
       "    </tr>\n",
       "    <tr>\n",
       "      <th>3</th>\n",
       "      <td>1</td>\n",
       "      <td>crowding</td>\n",
       "      <td>10% - 15%</td>\n",
       "      <td>190.601379</td>\n",
       "    </tr>\n",
       "    <tr>\n",
       "      <th>4</th>\n",
       "      <td>1</td>\n",
       "      <td>crowding</td>\n",
       "      <td>15% - 20%</td>\n",
       "      <td>205.739715</td>\n",
       "    </tr>\n",
       "    <tr>\n",
       "      <th>...</th>\n",
       "      <td>...</td>\n",
       "      <td>...</td>\n",
       "      <td>...</td>\n",
       "      <td>...</td>\n",
       "    </tr>\n",
       "    <tr>\n",
       "      <th>211</th>\n",
       "      <td>9</td>\n",
       "      <td>insurance</td>\n",
       "      <td>5% - 10%</td>\n",
       "      <td>11.431043</td>\n",
       "    </tr>\n",
       "    <tr>\n",
       "      <th>212</th>\n",
       "      <td>9</td>\n",
       "      <td>insurance</td>\n",
       "      <td>10% - 15%</td>\n",
       "      <td>12.656302</td>\n",
       "    </tr>\n",
       "    <tr>\n",
       "      <th>213</th>\n",
       "      <td>9</td>\n",
       "      <td>insurance</td>\n",
       "      <td>15% - 25%</td>\n",
       "      <td>13.464187</td>\n",
       "    </tr>\n",
       "    <tr>\n",
       "      <th>214</th>\n",
       "      <td>9</td>\n",
       "      <td>insurance</td>\n",
       "      <td>25% - 35%</td>\n",
       "      <td>13.857676</td>\n",
       "    </tr>\n",
       "    <tr>\n",
       "      <th>215</th>\n",
       "      <td>9</td>\n",
       "      <td>insurance</td>\n",
       "      <td>over 35%</td>\n",
       "      <td>13.226148</td>\n",
       "    </tr>\n",
       "  </tbody>\n",
       "</table>\n",
       "<p>216 rows × 4 columns</p>\n",
       "</div>"
      ],
      "text/plain": [
       "     Month_of_2022 social_det   social_tier  avg_case_rate_per_100k\n",
       "0                1   crowding  less than 2%              130.443291\n",
       "1                1   crowding       2% - 5%              145.866734\n",
       "2                1   crowding      5% - 10%              166.359762\n",
       "3                1   crowding     10% - 15%              190.601379\n",
       "4                1   crowding     15% - 20%              205.739715\n",
       "..             ...        ...           ...                     ...\n",
       "211              9  insurance      5% - 10%               11.431043\n",
       "212              9  insurance     10% - 15%               12.656302\n",
       "213              9  insurance     15% - 25%               13.464187\n",
       "214              9  insurance     25% - 35%               13.857676\n",
       "215              9  insurance      over 35%               13.226148\n",
       "\n",
       "[216 rows x 4 columns]"
      ]
     },
     "execution_count": 21,
     "metadata": {},
     "output_type": "execute_result"
    }
   ],
   "source": [
    "%%bigquery\n",
    "SELECT EXTRACT(MONTH FROM date) AS Month_of_2022, social_det,social_tier,AVG(case_rate_per_100k) AS avg_case_rate_per_100k\n",
    "FROM `ba775-team-project-04.ba775_team04_covid_19_equity_metrics_v1kpo4.covid-19-case-rate-by-social-det`\n",
    "WHERE EXTRACT( YEAR FROM date) = 2022\n",
    "GROUP BY Month_of_2022,social_det,social_tier,sort\n",
    "ORDER BY Month_of_2022,social_det,sort;"
   ]
  },
  {
   "cell_type": "markdown",
   "id": "aec7967d-eb83-4c0b-b43e-8082c28c7af6",
   "metadata": {},
   "source": [
    "<div class='tableauPlaceholder' id='viz1666122818145' style='position: relative'><noscript><a href='#'><img alt='7 Day Cases in Different Social Class ' src='https:&#47;&#47;public.tableau.com&#47;static&#47;images&#47;CO&#47;COVID-equity-dashboard-5&#47;3F7DayCasesinDifferentSocialClass&#47;1_rss.png' style='border: none' /></a></noscript><object class='tableauViz'  style='display:none;'><param name='host_url' value='https%3A%2F%2Fpublic.tableau.com%2F' /> <param name='embed_code_version' value='3' /> <param name='site_root' value='' /><param name='name' value='COVID-equity-dashboard-5&#47;3F7DayCasesinDifferentSocialClass' /><param name='tabs' value='no' /><param name='toolbar' value='yes' /><param name='static_image' value='https:&#47;&#47;public.tableau.com&#47;static&#47;images&#47;CO&#47;COVID-equity-dashboard-5&#47;3F7DayCasesinDifferentSocialClass&#47;1.png' /> <param name='animate_transition' value='yes' /><param name='display_static_image' value='yes' /><param name='display_spinner' value='yes' /><param name='display_overlay' value='yes' /><param name='display_count' value='yes' /><param name='language' value='zh-CN' /></object></div>                <script type='text/javascript'>                    var divElement = document.getElementById('viz1666122818145');                    var vizElement = divElement.getElementsByTagName('object')[0];                    vizElement.style.width='100%';vizElement.style.height=(divElement.offsetWidth*0.75)+'px';                    var scriptElement = document.createElement('script');                    scriptElement.src = 'https://public.tableau.com/javascripts/api/viz_v1.js';                    vizElement.parentNode.insertBefore(scriptElement, vizElement);                </script>"
   ]
  },
  {
   "cell_type": "markdown",
   "id": "056bb0ed-c308-40c0-a5c1-c04b3d0c76e8",
   "metadata": {},
   "source": [
    "From the graph, we can see that people in the lower middle and middle classes have the highest number of diagnoses which makes sense. Back in real life, COVID accelerates inequality in society. To be more specific, the graph also shows that colored people have a higher rate of getting COVID than White Amerian because colored people will have a greater likelihood of being exposed to risk factors in COVID like crowded workplaces, face-to-face talk, and low protection awareness [1].\n",
    "\n",
    "Lower and middle-class people are essential workers, they have to go to work to earn money and the crowding also tells us that their family members are large and so the infection rate will increase. That’s why the 7 cases number are high in these social diets. COVID is controlled a little by the government in 2022, so the number of 7 cases number decreased by 50% but the lower and middle classes still have a higher number of diagnosed cases. The case numbers tell us that COVID-19 impacts not only people’s health but also the social environment of the limited resources under the pandemic like money, food, education, job, and healthcare, which makes the lower class people become more vulnerable [1]. "
   ]
  },
  {
   "cell_type": "markdown",
   "id": "2fb3dd5c-1bd3-456b-86f8-f12692af7fcc",
   "metadata": {},
   "source": [
    "### **2.2 Difference of Cases and Death Rate between Races**"
   ]
  },
  {
   "cell_type": "markdown",
   "id": "55d27759-1244-4bd5-9776-4b706e242f99",
   "metadata": {
    "tags": []
   },
   "source": [
    "In this section,we are going to analyze the death rate and confirmed rate among different ethnity groups\n",
    "in state of California to invest how COVID influeces the different races and ethnicities. "
   ]
  },
  {
   "cell_type": "code",
   "execution_count": 22,
   "id": "ab96028a-796e-42a7-a54a-adf0efa1e737",
   "metadata": {},
   "outputs": [
    {
     "name": "stderr",
     "output_type": "stream",
     "text": [
      "Query complete after 0.00s: 100%|██████████| 1/1 [00:00<00:00, 506.74query/s] \n",
      "Downloading: 100%|██████████| 5/5 [00:01<00:00,  3.73rows/s]\n"
     ]
    },
    {
     "data": {
      "text/html": [
       "<div>\n",
       "<style scoped>\n",
       "    .dataframe tbody tr th:only-of-type {\n",
       "        vertical-align: middle;\n",
       "    }\n",
       "\n",
       "    .dataframe tbody tr th {\n",
       "        vertical-align: top;\n",
       "    }\n",
       "\n",
       "    .dataframe thead th {\n",
       "        text-align: right;\n",
       "    }\n",
       "</style>\n",
       "<table border=\"1\" class=\"dataframe\">\n",
       "  <thead>\n",
       "    <tr style=\"text-align: right;\">\n",
       "      <th></th>\n",
       "      <th>DATE</th>\n",
       "      <th>LOCATION</th>\n",
       "      <th>LOCATION_LEVEL</th>\n",
       "      <th>DEMOG</th>\n",
       "      <th>DEMOG_CAT</th>\n",
       "      <th>METRIC_CAT</th>\n",
       "      <th>METRIC</th>\n",
       "      <th>VALUE</th>\n",
       "    </tr>\n",
       "  </thead>\n",
       "  <tbody>\n",
       "    <tr>\n",
       "      <th>0</th>\n",
       "      <td>2022-09-03</td>\n",
       "      <td>CA</td>\n",
       "      <td>state</td>\n",
       "      <td>race_ethnicity</td>\n",
       "      <td>White</td>\n",
       "      <td>cases</td>\n",
       "      <td>cases_week_rate</td>\n",
       "      <td>63.15528</td>\n",
       "    </tr>\n",
       "    <tr>\n",
       "      <th>1</th>\n",
       "      <td>2022-08-27</td>\n",
       "      <td>CA</td>\n",
       "      <td>state</td>\n",
       "      <td>race_ethnicity</td>\n",
       "      <td>White</td>\n",
       "      <td>cases</td>\n",
       "      <td>cases_week_rate</td>\n",
       "      <td>76.77461</td>\n",
       "    </tr>\n",
       "    <tr>\n",
       "      <th>2</th>\n",
       "      <td>2022-08-20</td>\n",
       "      <td>CA</td>\n",
       "      <td>state</td>\n",
       "      <td>race_ethnicity</td>\n",
       "      <td>White</td>\n",
       "      <td>cases</td>\n",
       "      <td>cases_week_rate</td>\n",
       "      <td>87.06567</td>\n",
       "    </tr>\n",
       "    <tr>\n",
       "      <th>3</th>\n",
       "      <td>2022-08-13</td>\n",
       "      <td>CA</td>\n",
       "      <td>state</td>\n",
       "      <td>race_ethnicity</td>\n",
       "      <td>White</td>\n",
       "      <td>cases</td>\n",
       "      <td>cases_week_rate</td>\n",
       "      <td>98.50019</td>\n",
       "    </tr>\n",
       "    <tr>\n",
       "      <th>4</th>\n",
       "      <td>2022-08-06</td>\n",
       "      <td>CA</td>\n",
       "      <td>state</td>\n",
       "      <td>race_ethnicity</td>\n",
       "      <td>White</td>\n",
       "      <td>cases</td>\n",
       "      <td>cases_week_rate</td>\n",
       "      <td>118.29279</td>\n",
       "    </tr>\n",
       "  </tbody>\n",
       "</table>\n",
       "</div>"
      ],
      "text/plain": [
       "         DATE LOCATION LOCATION_LEVEL           DEMOG DEMOG_CAT METRIC_CAT  \\\n",
       "0  2022-09-03       CA          state  race_ethnicity     White      cases   \n",
       "1  2022-08-27       CA          state  race_ethnicity     White      cases   \n",
       "2  2022-08-20       CA          state  race_ethnicity     White      cases   \n",
       "3  2022-08-13       CA          state  race_ethnicity     White      cases   \n",
       "4  2022-08-06       CA          state  race_ethnicity     White      cases   \n",
       "\n",
       "            METRIC      VALUE  \n",
       "0  cases_week_rate   63.15528  \n",
       "1  cases_week_rate   76.77461  \n",
       "2  cases_week_rate   87.06567  \n",
       "3  cases_week_rate   98.50019  \n",
       "4  cases_week_rate  118.29279  "
      ]
     },
     "execution_count": 22,
     "metadata": {},
     "output_type": "execute_result"
    }
   ],
   "source": [
    "%%bigquery\n",
    "select*\n",
    "from `ba775-team-project-04.ba775_team04_covid_19_equity_metrics_v1kpo4.covid-19-race-ethnicity-timeseries`\n",
    "limit 5"
   ]
  },
  {
   "cell_type": "markdown",
   "id": "e32ba138-fb0a-4e3b-aa3d-189a31d5dbe0",
   "metadata": {},
   "source": [
    "From the above preview of this dataset, this dataset contains weekly case rate and death rate for each ethnity group, on a basis of cases/deaths per 100,K from 2020 to 2022.Is there any difference in confirmed/death rate between different ethnity groups? How do we use this finding to help reduce the spread of Covid-19?"
   ]
  },
  {
   "cell_type": "code",
   "execution_count": 23,
   "id": "0a473a87-0749-4a91-be62-eacb6b105511",
   "metadata": {},
   "outputs": [
    {
     "name": "stderr",
     "output_type": "stream",
     "text": [
      "Query complete after 0.00s: 100%|██████████| 1/1 [00:00<00:00, 332.62query/s] \n",
      "Downloading: 100%|██████████| 7/7 [00:01<00:00,  5.19rows/s]\n"
     ]
    },
    {
     "data": {
      "text/html": [
       "<div>\n",
       "<style scoped>\n",
       "    .dataframe tbody tr th:only-of-type {\n",
       "        vertical-align: middle;\n",
       "    }\n",
       "\n",
       "    .dataframe tbody tr th {\n",
       "        vertical-align: top;\n",
       "    }\n",
       "\n",
       "    .dataframe thead th {\n",
       "        text-align: right;\n",
       "    }\n",
       "</style>\n",
       "<table border=\"1\" class=\"dataframe\">\n",
       "  <thead>\n",
       "    <tr style=\"text-align: right;\">\n",
       "      <th></th>\n",
       "      <th>DEMOG_CAT</th>\n",
       "    </tr>\n",
       "  </thead>\n",
       "  <tbody>\n",
       "    <tr>\n",
       "      <th>0</th>\n",
       "      <td>White</td>\n",
       "    </tr>\n",
       "    <tr>\n",
       "      <th>1</th>\n",
       "      <td>Latino</td>\n",
       "    </tr>\n",
       "    <tr>\n",
       "      <th>2</th>\n",
       "      <td>Multi-Race</td>\n",
       "    </tr>\n",
       "    <tr>\n",
       "      <th>3</th>\n",
       "      <td>Asian American</td>\n",
       "    </tr>\n",
       "    <tr>\n",
       "      <th>4</th>\n",
       "      <td>American Indian</td>\n",
       "    </tr>\n",
       "    <tr>\n",
       "      <th>5</th>\n",
       "      <td>African American</td>\n",
       "    </tr>\n",
       "    <tr>\n",
       "      <th>6</th>\n",
       "      <td>Native Hawaiian and other Pacific Islander</td>\n",
       "    </tr>\n",
       "  </tbody>\n",
       "</table>\n",
       "</div>"
      ],
      "text/plain": [
       "                                    DEMOG_CAT\n",
       "0                                       White\n",
       "1                                      Latino\n",
       "2                                  Multi-Race\n",
       "3                              Asian American\n",
       "4                             American Indian\n",
       "5                            African American\n",
       "6  Native Hawaiian and other Pacific Islander"
      ]
     },
     "execution_count": 23,
     "metadata": {},
     "output_type": "execute_result"
    }
   ],
   "source": [
    "%%bigquery\n",
    "select distinct DEMOG_CAT\n",
    "from `ba775-team-project-04.ba775_team04_covid_19_equity_metrics_v1kpo4.covid-19-race-ethnicity-timeseries`\n",
    "#An overview of different ethnicity categories"
   ]
  },
  {
   "cell_type": "code",
   "execution_count": 24,
   "id": "175ca08d-b6cf-4554-a304-237267b9825d",
   "metadata": {},
   "outputs": [
    {
     "name": "stderr",
     "output_type": "stream",
     "text": [
      "Query complete after 0.00s: 100%|██████████| 1/1 [00:00<00:00, 558.27query/s] \n",
      "Downloading: 100%|██████████| 3/3 [00:01<00:00,  2.50rows/s]\n"
     ]
    },
    {
     "data": {
      "text/html": [
       "<div>\n",
       "<style scoped>\n",
       "    .dataframe tbody tr th:only-of-type {\n",
       "        vertical-align: middle;\n",
       "    }\n",
       "\n",
       "    .dataframe tbody tr th {\n",
       "        vertical-align: top;\n",
       "    }\n",
       "\n",
       "    .dataframe thead th {\n",
       "        text-align: right;\n",
       "    }\n",
       "</style>\n",
       "<table border=\"1\" class=\"dataframe\">\n",
       "  <thead>\n",
       "    <tr style=\"text-align: right;\">\n",
       "      <th></th>\n",
       "      <th>METRIC_CAT</th>\n",
       "    </tr>\n",
       "  </thead>\n",
       "  <tbody>\n",
       "    <tr>\n",
       "      <th>0</th>\n",
       "      <td>cases</td>\n",
       "    </tr>\n",
       "    <tr>\n",
       "      <th>1</th>\n",
       "      <td>tests</td>\n",
       "    </tr>\n",
       "    <tr>\n",
       "      <th>2</th>\n",
       "      <td>deaths</td>\n",
       "    </tr>\n",
       "  </tbody>\n",
       "</table>\n",
       "</div>"
      ],
      "text/plain": [
       "  METRIC_CAT\n",
       "0      cases\n",
       "1      tests\n",
       "2     deaths"
      ]
     },
     "execution_count": 24,
     "metadata": {},
     "output_type": "execute_result"
    }
   ],
   "source": [
    "%%bigquery\n",
    "select distinct METRIC_CAT\n",
    "from `ba775-team-project-04.ba775_team04_covid_19_equity_metrics_v1kpo4.covid-19-race-ethnicity-timeseries`\n",
    "#An overview of different metric categories"
   ]
  },
  {
   "cell_type": "code",
   "execution_count": 25,
   "id": "c43c1acf-6bb5-4abf-a948-d2b4b28c4eea",
   "metadata": {},
   "outputs": [
    {
     "name": "stderr",
     "output_type": "stream",
     "text": [
      "Query complete after 0.00s: 100%|██████████| 1/1 [00:00<00:00, 506.56query/s] \n",
      "Downloading: 100%|██████████| 7/7 [00:01<00:00,  5.19rows/s]\n"
     ]
    },
    {
     "data": {
      "text/html": [
       "<div>\n",
       "<style scoped>\n",
       "    .dataframe tbody tr th:only-of-type {\n",
       "        vertical-align: middle;\n",
       "    }\n",
       "\n",
       "    .dataframe tbody tr th {\n",
       "        vertical-align: top;\n",
       "    }\n",
       "\n",
       "    .dataframe thead th {\n",
       "        text-align: right;\n",
       "    }\n",
       "</style>\n",
       "<table border=\"1\" class=\"dataframe\">\n",
       "  <thead>\n",
       "    <tr style=\"text-align: right;\">\n",
       "      <th></th>\n",
       "      <th>total_cases_per100K</th>\n",
       "      <th>DEMOG_CAT</th>\n",
       "    </tr>\n",
       "  </thead>\n",
       "  <tbody>\n",
       "    <tr>\n",
       "      <th>0</th>\n",
       "      <td>12422.54331</td>\n",
       "      <td>Native Hawaiian and other Pacific Islander</td>\n",
       "    </tr>\n",
       "    <tr>\n",
       "      <th>1</th>\n",
       "      <td>7091.57208</td>\n",
       "      <td>Latino</td>\n",
       "    </tr>\n",
       "    <tr>\n",
       "      <th>2</th>\n",
       "      <td>6137.70867</td>\n",
       "      <td>African American</td>\n",
       "    </tr>\n",
       "    <tr>\n",
       "      <th>3</th>\n",
       "      <td>6056.66728</td>\n",
       "      <td>American Indian</td>\n",
       "    </tr>\n",
       "    <tr>\n",
       "      <th>4</th>\n",
       "      <td>4606.08161</td>\n",
       "      <td>White</td>\n",
       "    </tr>\n",
       "    <tr>\n",
       "      <th>5</th>\n",
       "      <td>4062.35234</td>\n",
       "      <td>Multi-Race</td>\n",
       "    </tr>\n",
       "    <tr>\n",
       "      <th>6</th>\n",
       "      <td>2989.49561</td>\n",
       "      <td>Asian American</td>\n",
       "    </tr>\n",
       "  </tbody>\n",
       "</table>\n",
       "</div>"
      ],
      "text/plain": [
       "   total_cases_per100K                                   DEMOG_CAT\n",
       "0          12422.54331  Native Hawaiian and other Pacific Islander\n",
       "1           7091.57208                                      Latino\n",
       "2           6137.70867                            African American\n",
       "3           6056.66728                             American Indian\n",
       "4           4606.08161                                       White\n",
       "5           4062.35234                                  Multi-Race\n",
       "6           2989.49561                              Asian American"
      ]
     },
     "execution_count": 25,
     "metadata": {},
     "output_type": "execute_result"
    }
   ],
   "source": [
    "%%bigquery\n",
    "select sum(value) as total_cases_per100K,DEMOG_CAT\n",
    "from `ba775-team-project-04.ba775_team04_covid_19_equity_metrics_v1kpo4.covid-19-race-ethnicity-timeseries`\n",
    "\n",
    "where METRIC_CAT = 'cases'\n",
    "and EXTRACT(year from DATE) = 2021\n",
    "\n",
    "group by DEMOG_CAT\n",
    "order by total_cases_per100K desc"
   ]
  },
  {
   "cell_type": "markdown",
   "id": "91e93993-6e33-49aa-b167-aa65fcfb208e",
   "metadata": {},
   "source": [
    "The above results show significant difference in total cases within different ethnicity groups. A relative high number of confirmed cases in Native Hawaiian may due to the fact that this ethnicity group lives in a certain area and is easily get infected if the virus has spread to their living habitat. The relative low number of confirmed cases in Asian American may due to the fact that they tend to be more cautious facing this virus and did more protective measures compared to other ethnicity groups."
   ]
  },
  {
   "cell_type": "code",
   "execution_count": 26,
   "id": "b37fc75b-5224-4a5d-b5b2-b031e8a976e4",
   "metadata": {},
   "outputs": [
    {
     "name": "stderr",
     "output_type": "stream",
     "text": [
      "Query complete after 0.00s: 100%|██████████| 1/1 [00:00<00:00, 609.64query/s] \n",
      "Downloading: 100%|██████████| 7/7 [00:01<00:00,  5.51rows/s]\n"
     ]
    },
    {
     "data": {
      "text/html": [
       "<div>\n",
       "<style scoped>\n",
       "    .dataframe tbody tr th:only-of-type {\n",
       "        vertical-align: middle;\n",
       "    }\n",
       "\n",
       "    .dataframe tbody tr th {\n",
       "        vertical-align: top;\n",
       "    }\n",
       "\n",
       "    .dataframe thead th {\n",
       "        text-align: right;\n",
       "    }\n",
       "</style>\n",
       "<table border=\"1\" class=\"dataframe\">\n",
       "  <thead>\n",
       "    <tr style=\"text-align: right;\">\n",
       "      <th></th>\n",
       "      <th>total_deaths_per100K</th>\n",
       "      <th>DEMOG_CAT</th>\n",
       "    </tr>\n",
       "  </thead>\n",
       "  <tbody>\n",
       "    <tr>\n",
       "      <th>0</th>\n",
       "      <td>239.46186</td>\n",
       "      <td>Native Hawaiian and other Pacific Islander</td>\n",
       "    </tr>\n",
       "    <tr>\n",
       "      <th>1</th>\n",
       "      <td>136.76972</td>\n",
       "      <td>American Indian</td>\n",
       "    </tr>\n",
       "    <tr>\n",
       "      <th>2</th>\n",
       "      <td>134.06235</td>\n",
       "      <td>African American</td>\n",
       "    </tr>\n",
       "    <tr>\n",
       "      <th>3</th>\n",
       "      <td>133.65878</td>\n",
       "      <td>Latino</td>\n",
       "    </tr>\n",
       "    <tr>\n",
       "      <th>4</th>\n",
       "      <td>109.70330</td>\n",
       "      <td>White</td>\n",
       "    </tr>\n",
       "    <tr>\n",
       "      <th>5</th>\n",
       "      <td>85.59798</td>\n",
       "      <td>Multi-Race</td>\n",
       "    </tr>\n",
       "    <tr>\n",
       "      <th>6</th>\n",
       "      <td>81.66826</td>\n",
       "      <td>Asian American</td>\n",
       "    </tr>\n",
       "  </tbody>\n",
       "</table>\n",
       "</div>"
      ],
      "text/plain": [
       "   total_deaths_per100K                                   DEMOG_CAT\n",
       "0             239.46186  Native Hawaiian and other Pacific Islander\n",
       "1             136.76972                             American Indian\n",
       "2             134.06235                            African American\n",
       "3             133.65878                                      Latino\n",
       "4             109.70330                                       White\n",
       "5              85.59798                                  Multi-Race\n",
       "6              81.66826                              Asian American"
      ]
     },
     "execution_count": 26,
     "metadata": {},
     "output_type": "execute_result"
    }
   ],
   "source": [
    "%%bigquery\n",
    "select sum(value) as total_deaths_per100K,DEMOG_CAT\n",
    "from `ba775-team-project-04.ba775_team04_covid_19_equity_metrics_v1kpo4.covid-19-race-ethnicity-timeseries`\n",
    "\n",
    "where METRIC_CAT = 'deaths'\n",
    "and EXTRACT(year from DATE) = 2021\n",
    "\n",
    "group by DEMOG_CAT\n",
    "order by total_deaths_per100K desc"
   ]
  },
  {
   "cell_type": "markdown",
   "id": "01db5935-3d93-438b-b97d-da949bf14bfa",
   "metadata": {},
   "source": [
    "Overall,the death number is in positive relationship to confirmed cases.A higher confirmed case rate indicates \n",
    "higher death rate within groups. Combined with comparison of death rate between 2021 and 2022,it is clear that \n",
    "there's no significant pattern that affects the death rate between ethnity groups other than case rate.\n",
    "\n",
    "<div class='tableauPlaceholder' id='viz1666133561417' style='position: relative'><noscript><a href='#'><img alt='Cases Among Race and Ethnicity ' src='https:&#47;&#47;public.tableau.com&#47;static&#47;images&#47;CO&#47;COVID-equity-dashboard-3&#47;2Aracetime&#47;1_rss.png' style='border: none' /></a></noscript><object class='tableauViz'  style='display:none;'><param name='host_url' value='https%3A%2F%2Fpublic.tableau.com%2F' /> <param name='embed_code_version' value='3' /> <param name='site_root' value='' /><param name='name' value='COVID-equity-dashboard-3&#47;2Aracetime' /><param name='tabs' value='no' /><param name='toolbar' value='yes' /><param name='static_image' value='https:&#47;&#47;public.tableau.com&#47;static&#47;images&#47;CO&#47;COVID-equity-dashboard-3&#47;2Aracetime&#47;1.png' /> <param name='animate_transition' value='yes' /><param name='display_static_image' value='yes' /><param name='display_spinner' value='yes' /><param name='display_overlay' value='yes' /><param name='display_count' value='yes' /><param name='language' value='zh-CN' /></object></div>                <script type='text/javascript'>                    var divElement = document.getElementById('viz1666133561417');                    var vizElement = divElement.getElementsByTagName('object')[0];                    vizElement.style.width='100%';vizElement.style.height=(divElement.offsetWidth*0.75)+'px';                    var scriptElement = document.createElement('script');                    scriptElement.src = 'https://public.tableau.com/javascripts/api/viz_v1.js';                    vizElement.parentNode.insertBefore(scriptElement, vizElement);                </script>\n",
    "\n",
    "<div class='tableauPlaceholder' id='viz1666133578899' style='position: relative'><noscript><a href='#'><img alt='Death Rate Among Race and Ethnicity ' src='https:&#47;&#47;public.tableau.com&#47;static&#47;images&#47;CO&#47;COVID-equity-dashboard-4&#47;2Aracesbar&#47;1_rss.png' style='border: none' /></a></noscript><object class='tableauViz'  style='display:none;'><param name='host_url' value='https%3A%2F%2Fpublic.tableau.com%2F' /> <param name='embed_code_version' value='3' /> <param name='site_root' value='' /><param name='name' value='COVID-equity-dashboard-4&#47;2Aracesbar' /><param name='tabs' value='no' /><param name='toolbar' value='yes' /><param name='static_image' value='https:&#47;&#47;public.tableau.com&#47;static&#47;images&#47;CO&#47;COVID-equity-dashboard-4&#47;2Aracesbar&#47;1.png' /> <param name='animate_transition' value='yes' /><param name='display_static_image' value='yes' /><param name='display_spinner' value='yes' /><param name='display_overlay' value='yes' /><param name='display_count' value='yes' /><param name='language' value='zh-CN' /></object></div>                <script type='text/javascript'>                    var divElement = document.getElementById('viz1666133578899');                    var vizElement = divElement.getElementsByTagName('object')[0];                    vizElement.style.width='100%';vizElement.style.height=(divElement.offsetWidth*0.75)+'px';                    var scriptElement = document.createElement('script');                    scriptElement.src = 'https://public.tableau.com/javascripts/api/viz_v1.js';                    vizElement.parentNode.insertBefore(scriptElement, vizElement);                </script>"
   ]
  },
  {
   "cell_type": "markdown",
   "id": "061a6dcd-96f6-4c38-89b4-7a9c4c16780d",
   "metadata": {},
   "source": [
    "The graph of confirmed case rate from 2021 to 2022 within different groups shows that the spread of the COVID-19 \n",
    "is consistent.The peak occurs at January 2022,which is the starting time of Omicron. Native Hawaiian occupies only 0.38% of total population in California[2],with the highest confirmed rate.  \n",
    "\n",
    "How do we use these findings to guide our strategy for dealing with Covid-19?\n",
    "Overall,we need to slow down the spread of Covid-19. For native hawaiian or pacific islanders,it is crucial to publicize the precautions against Covid-19 in their neighbourhood and take further steps to ensure the safety of the whole living area.\n",
    "\n",
    "For African Americans and African Indians,they have a slightly higher death-case ratio and we might reallocate the\n",
    "medical resources, provide primary health care access to neighbourhood of these ethnity groups and increase their chances of treatment when they get Covid-19.[3]"
   ]
  },
  {
   "cell_type": "markdown",
   "id": "35717a6d-032c-4e65-8023-91e270aa9ec5",
   "metadata": {},
   "source": [
    "### **2.3 Death Rate Between Different Age Groups and Genders**"
   ]
  },
  {
   "cell_type": "markdown",
   "id": "237c0db1-9aec-4321-920b-bd63c8be8e4a",
   "metadata": {},
   "source": [
    "We will analyze the death rate between ages and gender here to do a more detailed analysis. Before going through the content, the question here is that is there any differences in death rates between several age groups and different genders."
   ]
  },
  {
   "cell_type": "code",
   "execution_count": 27,
   "id": "e447fe42-9ba6-4be6-a9bd-d1efca754b6d",
   "metadata": {},
   "outputs": [
    {
     "name": "stderr",
     "output_type": "stream",
     "text": [
      "Query complete after 0.00s: 100%|██████████| 1/1 [00:00<00:00, 818.08query/s] \n",
      "Downloading: 100%|██████████| 7/7 [00:01<00:00,  5.46rows/s]\n"
     ]
    },
    {
     "data": {
      "text/html": [
       "<div>\n",
       "<style scoped>\n",
       "    .dataframe tbody tr th:only-of-type {\n",
       "        vertical-align: middle;\n",
       "    }\n",
       "\n",
       "    .dataframe tbody tr th {\n",
       "        vertical-align: top;\n",
       "    }\n",
       "\n",
       "    .dataframe thead th {\n",
       "        text-align: right;\n",
       "    }\n",
       "</style>\n",
       "<table border=\"1\" class=\"dataframe\">\n",
       "  <thead>\n",
       "    <tr style=\"text-align: right;\">\n",
       "      <th></th>\n",
       "      <th>date</th>\n",
       "      <th>demographic_set</th>\n",
       "      <th>demographic_set_category</th>\n",
       "      <th>Confirmed</th>\n",
       "      <th>Deaths</th>\n",
       "      <th>death_rate</th>\n",
       "    </tr>\n",
       "  </thead>\n",
       "  <tbody>\n",
       "    <tr>\n",
       "      <th>0</th>\n",
       "      <td>2022-09-28</td>\n",
       "      <td>age_gp4</td>\n",
       "      <td>0-17</td>\n",
       "      <td>16923.0</td>\n",
       "      <td>NaN</td>\n",
       "      <td>NaN</td>\n",
       "    </tr>\n",
       "    <tr>\n",
       "      <th>1</th>\n",
       "      <td>2022-09-28</td>\n",
       "      <td>age_gp4</td>\n",
       "      <td>18-49</td>\n",
       "      <td>61807.0</td>\n",
       "      <td>NaN</td>\n",
       "      <td>NaN</td>\n",
       "    </tr>\n",
       "    <tr>\n",
       "      <th>2</th>\n",
       "      <td>2022-09-28</td>\n",
       "      <td>age_gp4</td>\n",
       "      <td>50-64</td>\n",
       "      <td>25137.0</td>\n",
       "      <td>23.0</td>\n",
       "      <td>0.000915</td>\n",
       "    </tr>\n",
       "    <tr>\n",
       "      <th>3</th>\n",
       "      <td>2022-09-28</td>\n",
       "      <td>age_gp4</td>\n",
       "      <td>65+</td>\n",
       "      <td>22144.0</td>\n",
       "      <td>290.0</td>\n",
       "      <td>0.013096</td>\n",
       "    </tr>\n",
       "    <tr>\n",
       "      <th>4</th>\n",
       "      <td>2022-09-28</td>\n",
       "      <td>gender</td>\n",
       "      <td>F</td>\n",
       "      <td>68030.0</td>\n",
       "      <td>143.0</td>\n",
       "      <td>0.002102</td>\n",
       "    </tr>\n",
       "    <tr>\n",
       "      <th>5</th>\n",
       "      <td>2022-09-28</td>\n",
       "      <td>gender</td>\n",
       "      <td>M</td>\n",
       "      <td>57771.0</td>\n",
       "      <td>144.0</td>\n",
       "      <td>0.002493</td>\n",
       "    </tr>\n",
       "    <tr>\n",
       "      <th>6</th>\n",
       "      <td>2022-09-28</td>\n",
       "      <td>gender</td>\n",
       "      <td>U</td>\n",
       "      <td>1568.0</td>\n",
       "      <td>NaN</td>\n",
       "      <td>NaN</td>\n",
       "    </tr>\n",
       "  </tbody>\n",
       "</table>\n",
       "</div>"
      ],
      "text/plain": [
       "         date demographic_set demographic_set_category  Confirmed  Deaths  \\\n",
       "0  2022-09-28         age_gp4                     0-17    16923.0     NaN   \n",
       "1  2022-09-28         age_gp4                    18-49    61807.0     NaN   \n",
       "2  2022-09-28         age_gp4                    50-64    25137.0    23.0   \n",
       "3  2022-09-28         age_gp4                      65+    22144.0   290.0   \n",
       "4  2022-09-28          gender                        F    68030.0   143.0   \n",
       "5  2022-09-28          gender                        M    57771.0   144.0   \n",
       "6  2022-09-28          gender                        U     1568.0     NaN   \n",
       "\n",
       "   death_rate  \n",
       "0         NaN  \n",
       "1         NaN  \n",
       "2    0.000915  \n",
       "3    0.013096  \n",
       "4    0.002102  \n",
       "5    0.002493  \n",
       "6         NaN  "
      ]
     },
     "execution_count": 27,
     "metadata": {},
     "output_type": "execute_result"
    }
   ],
   "source": [
    "%%bigquery\n",
    "WITH age AS(\n",
    "SELECT date,demographic_set,demographic_set_category,metric,sum(metric_value) as total_sum\n",
    "FROM `ba775-team-project-04.ba775_team04_covid_19_equity_metrics_v1kpo4.covid-19-demographic-rate-cumulative`\n",
    "WHERE demographic_set in (\"age_gp4\",'gender')\n",
    "AND county!=\"California\"\n",
    "AND demographic_set_category IS NOT NULL\n",
    "AND metric_value!=0\n",
    "GROUP BY date,demographic_set,demographic_set_category,metric\n",
    "ORDER BY date,demographic_set,demographic_set_category,metric)\n",
    "\n",
    "\n",
    "SELECT date,A.demographic_set,A.demographic_set_category,A.total_sum as Confirmed,B.total_sum AS Deaths,(B.total_sum/A.total_sum) AS death_rate\n",
    "FROM\n",
    "(SELECT date,demographic_set,demographic_set_category,total_sum\n",
    "FROM age\n",
    "WHERE metric = 'cases' ) A\n",
    "LEFT JOIN(\n",
    "SELECT demographic_set,demographic_set_category,total_sum\n",
    "FROM age\n",
    "WHERE metric = 'deaths'\n",
    ") B ON A.demographic_set_category=B.demographic_set_category\n",
    "AND A.demographic_set=B.demographic_set"
   ]
  },
  {
   "cell_type": "markdown",
   "id": "3205bc57-efd0-42d9-91b0-6bae1d53cc3f",
   "metadata": {},
   "source": [
    "According to the data grouping by age, we can see that there is no one age under 49 dead in the past 30 days. However, there are 25 people died whose age are between 50 to 64; and 310 people died whose age are above 65. The death rate for these two groups are 0.088% and 1.293% respectively. We can conclude that the death rate increases with the age.In terms of gender, the death rate for female is 0.18%, and the death rate for male is 0.24%. The difference is not that significant enough for us to conclude whether the gender affacts the death rate.\n",
    "\n",
    "As the elderly are the most vulnerable group, we should introduce some ways to protect them.\n",
    "\n",
    "The first is to reduce the likelihood of their being infected, i.e., to reduce the amount of time they are exposed to crowded places. Walworth supermarkets in Australia have introduced special shopping hours. From 7 a.m. to 8 a.m., only elderly and disabled people can go shopping. The British government is coordinating with retailers to ensure that older people can still get supplies from a remote location, like buying items from the grocery store by making a phone call.\n",
    "\n",
    "The second is to improve the cure rate for the elderly after infection. Possible approaches include developing vaccine or special drugs specifically designed for the elderly. Also, we should set aside some medical resources for the elderly only."
   ]
  },
  {
   "cell_type": "markdown",
   "id": "6aeddfe9-c9dc-4c9a-9fe8-e218d542e05a",
   "metadata": {},
   "source": [
    "### **2.4 Geographic Difference of Test Positivity Rate**"
   ]
  },
  {
   "cell_type": "markdown",
   "id": "14bae6df-9b64-451e-bae7-5c91ae7b8967",
   "metadata": {},
   "source": [
    "In the last part, we will explain the test positivity rate in California. Covid-19 spreads with population movements, therefore geographic factors are very relevant to the epidemic, for example, the average 30-day death rate in Los Angeles reached 4.37%, while in Alameda it was only 1.43%. The graph below shows the distribution of positive tests by county, labeled with the confirmation number and the death rate.\n",
    "\n",
    "<div class='tableauPlaceholder' id='viz1666122361140' style='position: relative'><noscript><a href='#'><img alt='Geographic View of Test Positivity Rate ' src='https:&#47;&#47;public.tableau.com&#47;static&#47;images&#47;CO&#47;COVID-equity-dashboard-1&#47;5Dpositiverate&#47;1_rss.png' style='border: none' /></a></noscript><object class='tableauViz'  style='display:none;'><param name='host_url' value='https%3A%2F%2Fpublic.tableau.com%2F' /> <param name='embed_code_version' value='3' /> <param name='site_root' value='' /><param name='name' value='COVID-equity-dashboard-1&#47;5Dpositiverate' /><param name='tabs' value='no' /><param name='toolbar' value='yes' /><param name='static_image' value='https:&#47;&#47;public.tableau.com&#47;static&#47;images&#47;CO&#47;COVID-equity-dashboard-1&#47;5Dpositiverate&#47;1.png' /> <param name='animate_transition' value='yes' /><param name='display_static_image' value='yes' /><param name='display_spinner' value='yes' /><param name='display_overlay' value='yes' /><param name='display_count' value='yes' /><param name='language' value='zh-CN' /></object></div>                <script type='text/javascript'>                    var divElement = document.getElementById('viz1666122361140');                    var vizElement = divElement.getElementsByTagName('object')[0];                    vizElement.style.width='100%';vizElement.style.height=(divElement.offsetWidth*0.75)+'px';                    var scriptElement = document.createElement('script');                    scriptElement.src = 'https://public.tableau.com/javascripts/api/viz_v1.js';                    vizElement.parentNode.insertBefore(scriptElement, vizElement);                </script>\n",
    "\n",
    "Within each county, we can have more detailed discussion of the differences of COVID-19 between neighborhoods.\n",
    "The CDPH defines the healthy place index (HPI) as \"a composite measure of socioeconomic opportunity applied to census tracts that includes 25 individual indicators across economic, social, education, transportation, housing, environmental and neighborhood sectors.\", [4]and divides each county's population into quartiles based on HPI.\n",
    "To illustrate the inequalities between neighborhoods, we compared the differences in test positivity rates between county overall and low-hpi areas:"
   ]
  },
  {
   "cell_type": "code",
   "execution_count": 28,
   "id": "06b04ec4-e5ce-43ff-a72b-627954cdcc8f",
   "metadata": {},
   "outputs": [
    {
     "name": "stderr",
     "output_type": "stream",
     "text": [
      "Query complete after 0.00s: 100%|██████████| 1/1 [00:00<00:00, 468.22query/s] \n",
      "Downloading: 100%|██████████| 5/5 [00:01<00:00,  4.20rows/s]\n"
     ]
    },
    {
     "data": {
      "text/html": [
       "<div>\n",
       "<style scoped>\n",
       "    .dataframe tbody tr th:only-of-type {\n",
       "        vertical-align: middle;\n",
       "    }\n",
       "\n",
       "    .dataframe tbody tr th {\n",
       "        vertical-align: top;\n",
       "    }\n",
       "\n",
       "    .dataframe thead th {\n",
       "        text-align: right;\n",
       "    }\n",
       "</style>\n",
       "<table border=\"1\" class=\"dataframe\">\n",
       "  <thead>\n",
       "    <tr style=\"text-align: right;\">\n",
       "      <th></th>\n",
       "      <th>county</th>\n",
       "      <th>date</th>\n",
       "      <th>positive_rate_all_nopris</th>\n",
       "      <th>positive_rate_low_hpi</th>\n",
       "      <th>positive_rate_diff</th>\n",
       "    </tr>\n",
       "  </thead>\n",
       "  <tbody>\n",
       "    <tr>\n",
       "      <th>0</th>\n",
       "      <td>Alameda</td>\n",
       "      <td>2022-08-20</td>\n",
       "      <td>0.086090</td>\n",
       "      <td>0.092330</td>\n",
       "      <td>0.006240</td>\n",
       "    </tr>\n",
       "    <tr>\n",
       "      <th>1</th>\n",
       "      <td>Alameda</td>\n",
       "      <td>2022-08-21</td>\n",
       "      <td>0.085055</td>\n",
       "      <td>0.090442</td>\n",
       "      <td>0.005387</td>\n",
       "    </tr>\n",
       "    <tr>\n",
       "      <th>2</th>\n",
       "      <td>Alameda</td>\n",
       "      <td>2022-08-22</td>\n",
       "      <td>0.082273</td>\n",
       "      <td>0.084493</td>\n",
       "      <td>0.002220</td>\n",
       "    </tr>\n",
       "    <tr>\n",
       "      <th>3</th>\n",
       "      <td>Alameda</td>\n",
       "      <td>2022-08-23</td>\n",
       "      <td>0.079097</td>\n",
       "      <td>0.079782</td>\n",
       "      <td>0.000684</td>\n",
       "    </tr>\n",
       "    <tr>\n",
       "      <th>4</th>\n",
       "      <td>Alameda</td>\n",
       "      <td>2022-08-24</td>\n",
       "      <td>0.078397</td>\n",
       "      <td>0.078357</td>\n",
       "      <td>-0.000040</td>\n",
       "    </tr>\n",
       "  </tbody>\n",
       "</table>\n",
       "</div>"
      ],
      "text/plain": [
       "    county        date  positive_rate_all_nopris  positive_rate_low_hpi  \\\n",
       "0  Alameda  2022-08-20                  0.086090               0.092330   \n",
       "1  Alameda  2022-08-21                  0.085055               0.090442   \n",
       "2  Alameda  2022-08-22                  0.082273               0.084493   \n",
       "3  Alameda  2022-08-23                  0.079097               0.079782   \n",
       "4  Alameda  2022-08-24                  0.078397               0.078357   \n",
       "\n",
       "   positive_rate_diff  \n",
       "0            0.006240  \n",
       "1            0.005387  \n",
       "2            0.002220  \n",
       "3            0.000684  \n",
       "4           -0.000040  "
      ]
     },
     "execution_count": 28,
     "metadata": {},
     "output_type": "execute_result"
    }
   ],
   "source": [
    "%%bigquery\n",
    "WITH all_nopris AS(\n",
    "    SELECT \n",
    "        county,\n",
    "        date,\n",
    "        metric_value AS positive_rate_all_nopris\n",
    "    FROM `ba775-team-project-04.ba775_team04_covid_19_equity_metrics_v1kpo4.covid-19-health-equity-metric-pos-30-day-by-cnt`\n",
    "    WHERE metric = 'county_positivity_all_nopris'),\n",
    "\n",
    " low_hpi AS(\n",
    "    SELECT \n",
    "        county,\n",
    "        date,\n",
    "        metric_value AS positive_rate_low_hpi\n",
    "    FROM `ba775-team-project-04.ba775_team04_covid_19_equity_metrics_v1kpo4.covid-19-health-equity-metric-pos-30-day-by-cnt`\n",
    "    WHERE metric = 'county_positivity_low_hpi')\n",
    "\n",
    "SELECT \n",
    "    all_nopris.county,\n",
    "    all_nopris.date,\n",
    "    positive_rate_all_nopris,\n",
    "    positive_rate_low_hpi,\n",
    "    (positive_rate_low_hpi - positive_rate_all_nopris) as positive_rate_diff\n",
    "FROM all_nopris\n",
    "INNER JOIN low_hpi\n",
    "ON all_nopris.county = low_hpi.county\n",
    "    AND all_nopris.date = low_hpi.date\n",
    "LIMIT 5;"
   ]
  },
  {
   "cell_type": "markdown",
   "id": "a4e09b02-556d-49be-b033-267324af6d73",
   "metadata": {},
   "source": [
    "Positive rate indicates the severity of the COVID-19. We picked Imperial, a county with a high positivity rate (around 20%), and Santa Cruz, a county with a positivity rate of less than 10%, as representatives of the two types of counties that are strongly and moderately hit by COVID-19. \n",
    "The graph below shows the change in test positivity over time for the two types of counties, where the thick line represents the average positive rate for the whole county, and the thin line represents the positive rate in low-hpi areas.\n",
    "\n",
    "<div class='tableauPlaceholder' id='viz1666122497921' style='position: relative'><noscript><a href='#'><img alt='Healthy Place Index Quartile Test Positivity Rate ' src='https:&#47;&#47;public.tableau.com&#47;static&#47;images&#47;CO&#47;COVID-equity-dashboard-2&#47;5Dtimeseriesbestandworst&#47;1_rss.png' style='border: none' /></a></noscript><object class='tableauViz'  style='display:none;'><param name='host_url' value='https%3A%2F%2Fpublic.tableau.com%2F' /> <param name='embed_code_version' value='3' /> <param name='site_root' value='' /><param name='name' value='COVID-equity-dashboard-2&#47;5Dtimeseriesbestandworst' /><param name='tabs' value='no' /><param name='toolbar' value='yes' /><param name='static_image' value='https:&#47;&#47;public.tableau.com&#47;static&#47;images&#47;CO&#47;COVID-equity-dashboard-2&#47;5Dtimeseriesbestandworst&#47;1.png' /> <param name='animate_transition' value='yes' /><param name='display_static_image' value='yes' /><param name='display_spinner' value='yes' /><param name='display_overlay' value='yes' /><param name='display_count' value='yes' /><param name='language' value='zh-CN' /></object></div>                <script type='text/javascript'>                    var divElement = document.getElementById('viz1666122497921');                    var vizElement = divElement.getElementsByTagName('object')[0];                    vizElement.style.width='100%';vizElement.style.height=(divElement.offsetWidth*0.75)+'px';                    var scriptElement = document.createElement('script');                    scriptElement.src = 'https://public.tableau.com/javascripts/api/viz_v1.js';                    vizElement.parentNode.insertBefore(scriptElement, vizElement);                </script>\n",
    "\n",
    "From the graph we can tell that neighborhoods with low healthy places index (HPI) tends to have higher positive rate than the county average, indicating more severe epidemic and inadequate testing. Further, the higher the positivity rate, the more significant the differences in positivity rates across neighborhoods, while counties with overall lower positivity rates had smaller differences in positivity rates across regions.\n",
    "The Covid-19 epidemic reveals health inequalities across neighborhoods, and the worse the epidemic, the more significant the inequalities"
   ]
  },
  {
   "cell_type": "markdown",
   "id": "624b1250-a727-4aba-98c7-4037554493cd",
   "metadata": {},
   "source": [
    "## **3.Conclusion**"
   ]
  },
  {
   "cell_type": "markdown",
   "id": "11c24047-f708-4bdb-97eb-36c204d5fc9c",
   "metadata": {},
   "source": [
    "From the analysis we did above, the most vulnerable groups are the lower class people, the Native Hawaiians, the elderly, and the people with a low healthy places index (HPI) neighborhood. Potential reasons may include living environment, protection awareness, and level of immunity (for the elderly). The four datasets we provided seem like individually talking their stories but due to the overlap of historical reasons, minorities, low-income people, and residents of low hpi neighborhoods, the mission of the analysis is finding the groups most affected by COVID instead of separation analysis \n",
    "\n",
    "The suggestions for government policy are: reallocating the medical resources for these vulnerable groups, granting funds at least at certain percentage to interrupt disease transmission in these populations. Although the medical inequality issue is difficult to eradicate, it is still meaningful for us to locate vulnerable groups and try to find possible solutions for further improvement."
   ]
  },
  {
   "cell_type": "markdown",
   "id": "9d8aafaa-faca-47c6-aaf1-2c5937273897",
   "metadata": {},
   "source": [
    "## **References**"
   ]
  },
  {
   "cell_type": "markdown",
   "id": "378aeea8-2057-4db0-8f71-32f9056cd3ce",
   "metadata": {},
   "source": [
    "[1]Kayitsinga, J., &amp; Martinez, R. O. (2021, August 8). Social and Structural Inequalities and COVID-19 in the United States. Social and Structural Inequalities and COVID-19 in the United States - Julian Samora Research Institute - Michigan State University. Retrieved October 18, 2022, from https://jsri.msu.edu/publications/nexo/vol/no-1-fall-2020/social-and-structural-inequalities-and-covid-19-in-the-united-states \n",
    "\n",
    "[2]California population 2022. California Population 2022 (Demographics, Maps, Graphs). (n.d.). Retrieved October 18, 2022, from https://worldpopulationreview.com/states/california-population \n",
    "\n",
    "[3]Harris, M. (2020, June 9). To address COVID-19 disparities, PCDC urges New York State to invest in Primary Care. Primary Care Development Corporation. Retrieved October 18, 2022, from https://www.pcdc.org/covid-19-disparities-new-york-testimony/?creative=490896925902&amp;keyword=covid-19+racial+disparities&amp;matchtype=e&amp;network=g&amp;device=c&amp;gclid=Cj0KCQjwnbmaBhD-ARIsAGTPcfXq-M9l49l5jql7F0aEgiklG73BvC7CeeCZBjkwl2zwsst4lXNrgOIaAtu-EALw_wcB \n",
    "\n",
    "[4]Blueprint For a Safer Economy: Equity Focus \n",
    "https://www.cdph.ca.gov/Programs/CID/DCDC/Pages/COVID-19/CaliforniaHealthEquityMetric.aspx"
   ]
  },
  {
   "cell_type": "code",
   "execution_count": null,
   "id": "67259fe2-2539-4f87-8c2e-b86777ced231",
   "metadata": {},
   "outputs": [],
   "source": []
  }
 ],
 "metadata": {
  "environment": {
   "kernel": "python3",
   "name": "common-cpu.m95",
   "type": "gcloud",
   "uri": "gcr.io/deeplearning-platform-release/base-cpu:m95"
  },
  "kernelspec": {
   "display_name": "Python 3",
   "language": "python",
   "name": "python3"
  },
  "language_info": {
   "codemirror_mode": {
    "name": "ipython",
    "version": 3
   },
   "file_extension": ".py",
   "mimetype": "text/x-python",
   "name": "python",
   "nbconvert_exporter": "python",
   "pygments_lexer": "ipython3",
   "version": "3.7.12"
  }
 },
 "nbformat": 4,
 "nbformat_minor": 5
}
